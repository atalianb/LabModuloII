{
 "cells": [
  {
   "cell_type": "code",
   "execution_count": 1,
   "metadata": {},
   "outputs": [],
   "source": [
    "import numpy as np\n",
    "import matplotlib.pyplot as plt\n",
    "from random import uniform\n",
    "%matplotlib inline"
   ]
  },
  {
   "cell_type": "code",
   "execution_count": 2,
   "metadata": {},
   "outputs": [],
   "source": [
    "#Volviendo a tomar una recta de la forma y = mx + b\n",
    "m_i = 1.3\n",
    "b_i =  3.1\n",
    "N = 50"
   ]
  },
  {
   "cell_type": "code",
   "execution_count": 3,
   "metadata": {},
   "outputs": [
    {
     "data": {
      "image/png": "[encoded data removed]",
      "text/plain": [
       "<Figure size 432x288 with 1 Axes>"
      ]
     },
     "metadata": {},
     "output_type": "display_data"
    }
   ],
   "source": [
    "data = 10*np.random.rand(N)\n",
    "y = m_i*data+b_i\n",
    "yerr = 1.+0.5*np.random.rand(N)\n",
    "y += yerr * np.random.randn(N)\n",
    "plt.errorbar(data,y,yerr=yerr, fmt='.')\n",
    "plt.plot(data,y,'.')\n",
    "plt.show()"
   ]
  },
  {
   "cell_type": "code",
   "execution_count": 4,
   "metadata": {},
   "outputs": [],
   "source": [
    "def model(x,m,b):\n",
    "    y = m*x + b\n",
    "    return y"
   ]
  },
  {
   "cell_type": "code",
   "execution_count": 5,
   "metadata": {},
   "outputs": [],
   "source": [
    "chi2 = lambda a,b:(((y-model(data,m_i,b_i))**2)/yerr**2).sum()\n",
    "chi2 = np.vectorize(chi2)"
   ]
  },
  {
   "cell_type": "code",
   "execution_count": 6,
   "metadata": {},
   "outputs": [],
   "source": [
    "pendiente = np.random.uniform(0,5,50)\n",
    "ordenada = np.random.uniform(0,5,50)"
   ]
  },
  {
   "cell_type": "code",
   "execution_count": 7,
   "metadata": {},
   "outputs": [],
   "source": [
    "chi_ran = chi2(pendiente,ordenada)"
   ]
  },
  {
   "cell_type": "code",
   "execution_count": 8,
   "metadata": {
    "scrolled": false
   },
   "outputs": [
    {
     "name": "stdout",
     "output_type": "stream",
     "text": [
      "('Pendiente =           ', array([3.614303  , 1.50585768, 0.25621652, 3.67042471, 3.76960021,\n",
      "       0.09665102, 2.87469697, 4.35796154, 0.41919964, 0.19218177,\n",
      "       4.58332442, 2.81686295, 0.48716543, 0.36943312, 2.28326192,\n",
      "       2.301399  , 0.75287303, 1.07147953, 0.012877  , 4.18119648,\n",
      "       3.43004263, 3.03387558, 4.36120936, 3.72359398, 0.37418325,\n",
      "       3.70184018, 3.92912516, 3.63235798, 3.05973768, 4.26809365,\n",
      "       2.47386851, 0.1907104 , 1.38482788, 2.15776699, 3.07847854,\n",
      "       2.23858057, 3.65042741, 4.90124495, 2.89323475, 2.51199771,\n",
      "       1.32054949, 0.64988865, 2.29166783, 3.75143807, 4.57536118,\n",
      "       2.54765424, 4.70027325, 2.0286082 , 2.7468122 , 2.15374139]))\n",
      "('Ordenada al origen =  ', array([1.89809547, 4.8430562 , 0.45143149, 4.72386369, 0.53550349,\n",
      "       4.47473861, 1.77379254, 1.99099699, 0.47324956, 3.85222558,\n",
      "       0.30504069, 2.23932297, 3.40826925, 4.61906906, 3.39258852,\n",
      "       0.77023866, 1.0424641 , 2.22918369, 0.34670594, 0.61717716,\n",
      "       1.79985588, 0.46175497, 1.87196256, 1.30093391, 0.97429446,\n",
      "       2.53836618, 2.13879403, 2.17498192, 2.4449321 , 0.48928488,\n",
      "       3.44165762, 2.6168612 , 1.46657329, 1.72998266, 4.33976174,\n",
      "       0.38841212, 2.4445968 , 3.24342697, 0.56349989, 3.72354881,\n",
      "       2.715787  , 2.69288828, 3.83509615, 4.73457378, 1.51606933,\n",
      "       0.69880588, 1.74184344, 0.10025595, 4.19404102, 4.34809854]))\n",
      "('Chi^2 =               ', array([41.39418773, 41.39418773, 41.39418773, 41.39418773, 41.39418773,\n",
      "       41.39418773, 41.39418773, 41.39418773, 41.39418773, 41.39418773,\n",
      "       41.39418773, 41.39418773, 41.39418773, 41.39418773, 41.39418773,\n",
      "       41.39418773, 41.39418773, 41.39418773, 41.39418773, 41.39418773,\n",
      "       41.39418773, 41.39418773, 41.39418773, 41.39418773, 41.39418773,\n",
      "       41.39418773, 41.39418773, 41.39418773, 41.39418773, 41.39418773,\n",
      "       41.39418773, 41.39418773, 41.39418773, 41.39418773, 41.39418773,\n",
      "       41.39418773, 41.39418773, 41.39418773, 41.39418773, 41.39418773,\n",
      "       41.39418773, 41.39418773, 41.39418773, 41.39418773, 41.39418773,\n",
      "       41.39418773, 41.39418773, 41.39418773, 41.39418773, 41.39418773]))\n"
     ]
    }
   ],
   "source": [
    "v_min = np.where(chi_ran == np.min(chi_ran))\n",
    "m_aj = pendiente[v_min]\n",
    "b_aj = ordenada[v_min]\n",
    "v_chi_ran = chi_ran[v_min]\n",
    "print ('Pendiente =           ', m_aj)\n",
    "print ('Ordenada al origen =  ', b_aj)\n",
    "print (r'Chi^2 =               ', v_chi_ran)"
   ]
  },
  {
   "cell_type": "code",
   "execution_count": 9,
   "metadata": {},
   "outputs": [],
   "source": [
    "m_a = np.std(m_aj)\n",
    "b_a = np.std(b_aj)"
   ]
  },
  {
   "cell_type": "code",
   "execution_count": 10,
   "metadata": {},
   "outputs": [
    {
     "data": {
      "image/png": "[encoded data removed]",
      "text/plain": [
       "<Figure size 432x288 with 1 Axes>"
      ]
     },
     "metadata": {},
     "output_type": "display_data"
    }
   ],
   "source": [
    "plt.plot(data, model(data, m_a, b_a))\n",
    "plt.errorbar(data,y,yerr=yerr, fmt='.',label='Datos')\n",
    "plt.xlabel('x')\n",
    "plt.ylabel('y')\n",
    "legend= plt.legend(loc='upper left', prop={'size':10})"
   ]
  },
  {
   "cell_type": "code",
   "execution_count": null,
   "metadata": {},
   "outputs": [],
   "source": []
  }
 ],
 "metadata": {
  "kernelspec": {
   "display_name": "Python 2",
   "language": "python",
   "name": "python2"
  },
  "language_info": {
   "codemirror_mode": {
    "name": "ipython",
    "version": 2
   },
   "file_extension": ".py",
   "mimetype": "text/x-python",
   "name": "python",
   "nbconvert_exporter": "python",
   "pygments_lexer": "ipython2",
   "version": "2.7.15"
  }
 },
 "nbformat": 4,
 "nbformat_minor": 2
}
